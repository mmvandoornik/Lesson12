{
 "metadata": {
  "name": "",
  "signature": "sha256:7d192f37ab6d1d2ccbcbb1ef1cb62c85775f7975435a1743d6eccb49477e4ee5"
 },
 "nbformat": 3,
 "nbformat_minor": 0,
 "worksheets": [
  {
   "cells": [
    {
     "cell_type": "heading",
     "level": 1,
     "metadata": {},
     "source": [
      "Solution exercise 12"
     ]
    },
    {
     "cell_type": "heading",
     "level": 3,
     "metadata": {},
     "source": [
      "Name: Maarten van Doornik,\n",
      "Date: 24-01-2017"
     ]
    },
    {
     "cell_type": "heading",
     "level": 5,
     "metadata": {},
     "source": [
      "First, we start importing all the modules that we need"
     ]
    },
    {
     "cell_type": "code",
     "collapsed": false,
     "input": [
      "import os\n",
      "from osgeo import gdal\n",
      "import numpy as np\n",
      "from osgeo.gdalconst import GA_ReadOnly, GDT_Float32\n",
      "import matplotlib.pyplot as plt"
     ],
     "language": "python",
     "metadata": {},
     "outputs": []
    },
    {
     "cell_type": "heading",
     "level": 5,
     "metadata": {},
     "source": [
      "Then we change the working directory to the desired folder"
     ]
    },
    {
     "cell_type": "code",
     "collapsed": false,
     "input": [
      "os.chdir(\"/home/ubuntu/userdata/lesson12\")"
     ],
     "language": "python",
     "metadata": {},
     "outputs": []
    },
    {
     "cell_type": "heading",
     "level": 5,
     "metadata": {},
     "source": [
      "Next, we assign the neccesary files to variables in our workspace and create numpy arrays in order to be able to do calculations on the images. This is done in 4 steps, as can be seen below. "
     ]
    },
    {
     "cell_type": "code",
     "collapsed": false,
     "input": [
      "# Assign files to variables\n",
      "band4 = './data/LC81980242014260LGN00_sr_band4.tif'\n",
      "band5 = './data/LC81980242014260LGN00_sr_band5.tif'\n",
      "\n",
      "# Open the files\n",
      "dsband4 = gdal.Open(band4, GA_ReadOnly)\n",
      "dsband5 = gdal.Open(band5, GA_ReadOnly)\n",
      "\n",
      "# Read the files as numpy array\n",
      "band4Arr = dsband4.ReadAsArray(0,0,dsband4.RasterXSize, dsband4.RasterYSize)\n",
      "band5Arr = dsband5.ReadAsArray(0,0,dsband5.RasterXSize, dsband5.RasterYSize)\n",
      "\n",
      "# Set data type of the files\n",
      "band4Arr = band4Arr.astype(np.float32)\n",
      "band5Arr = band5Arr.astype(np.float32)"
     ],
     "language": "python",
     "metadata": {},
     "outputs": []
    },
    {
     "cell_type": "heading",
     "level": 5,
     "metadata": {},
     "source": [
      "Then a function is made to derive the NDWI from these images. "
     ]
    },
    {
     "cell_type": "code",
     "collapsed": false,
     "input": [
      "def ndwiCalc(NIR, MIR):\n",
      "    mask = np.greater(MIR+NIR,0)\n",
      "    with np.errstate(invalid='ignore'):\n",
      "        ndwi = np.choose(mask,(-99,(NIR-MIR)/(NIR+MIR)))    \n",
      "    return ndwi"
     ],
     "language": "python",
     "metadata": {},
     "outputs": []
    },
    {
     "cell_type": "heading",
     "level": 5,
     "metadata": {},
     "source": [
      "The function is called for the images with the NIR and the MIR bands. "
     ]
    },
    {
     "cell_type": "code",
     "collapsed": false,
     "input": [
      "ndwi_ = ndwiCalc(band4Arr, band5Arr)"
     ],
     "language": "python",
     "metadata": {},
     "outputs": []
    },
    {
     "cell_type": "heading",
     "level": 5,
     "metadata": {},
     "source": [
      "After the calculation has been done, the resulting variable is written to a new GeoTiff file. This is done in several steps, as can be seen below. Different steps are necessary for calling the driver, making the file, getting the band, writing the values to the file, setting no data values and assigning a coordinate reference system. "
     ]
    },
    {
     "cell_type": "code",
     "collapsed": false,
     "input": [
      "driver = gdal.GetDriverByName('GTiff')\n",
      "outDataSet = driver.Create('./data/ndwi.tif', dsband4.RasterXSize, dsband4.RasterYSize, 1, GDT_Float32)\n",
      "outBand = outDataSet.GetRasterBand(1)\n",
      "outBand.WriteArray(ndwi_,0,0)\n",
      "outBand.SetNoDataValue(-99)\n",
      "outDataSet.SetProjection(dsband4.GetProjection())\n",
      "outDataSet.SetGeoTransform(dsband4.GetGeoTransform())\n",
      "outBand.FlushCache()\n",
      "outDataSet.FlushCache()"
     ],
     "language": "python",
     "metadata": {},
     "outputs": []
    },
    {
     "cell_type": "heading",
     "level": 5,
     "metadata": {},
     "source": [
      "Next, the cartesian coordinates are transformed to geographic coordinates: latitude/longitude. This is done by calling a Bash command that is called from the Python script by using os.system()."
     ]
    },
    {
     "cell_type": "code",
     "collapsed": false,
     "input": [
      "os.system('gdalwarp -t_srs \"EPSG:4326\" ./data/ndwi.tif ./data/ndwi_ll.tif')"
     ],
     "language": "python",
     "metadata": {},
     "outputs": []
    },
    {
     "cell_type": "heading",
     "level": 5,
     "metadata": {},
     "source": [
      "Finallly, the result has been plotted to see the final outcome."
     ]
    },
    {
     "cell_type": "code",
     "collapsed": false,
     "input": [
      "%matplotlib inline\n",
      "dsll = gdal.Open(\"./data/ndwi_ll.tif\")\n",
      "ndwi = dsll.ReadAsArray(0, 0, dsll.RasterXSize, dsll.RasterYSize)\n",
      "plt.imshow(ndwi, interpolation='nearest', vmin=0, cmap=plt.cm.gist_earth)\n",
      "plt.show()\n",
      "dsll = None"
     ],
     "language": "python",
     "metadata": {},
     "outputs": []
    }
   ],
   "metadata": {}
  }
 ]
}